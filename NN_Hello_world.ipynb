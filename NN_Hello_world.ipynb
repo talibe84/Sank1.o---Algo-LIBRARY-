{
 "cells": [
  {
   "cell_type": "markdown",
   "metadata": {},
   "source": [
    "Deep Learning \n",
    "\n",
    "1- Approach to ML characterized by deep stacks of computations\n",
    "& Dept of computations has enabled deep learning models to disentangle \n",
    "the kinds of complex and hierarchical patterns found in challenge datasets \n",
    "\n",
    "2- Neural Networks defining model for deep learning. Each Neuron perform simple computation\n",
    "Power comes from the complexity of the connections these neuron can form. \n",
    "\n",
    "3- \n",
    "$$\n",
    "  Linear Unit: y= wx + b \\\\\n",
    "y:Predictor \\\\ x:input \\\\ w:weight (NN Learns by adjusting weight) \\\\\n",
    " b:Bias, enables the neuron to modify the output independently of its inputs. \n",
    "$$\n",
    "\n",
    "4- Plane VS HyperPlane: Plane->Linear Unit Model with 2 inputs. HyperPlane->Linear Unit Model with more than 2 inputs"
   ]
  },
  {
   "cell_type": "code",
   "execution_count": null,
   "metadata": {},
   "outputs": [],
   "source": []
  },
  {
   "cell_type": "code",
   "execution_count": null,
   "metadata": {},
   "outputs": [],
   "source": []
  },
  {
   "cell_type": "code",
   "execution_count": null,
   "metadata": {},
   "outputs": [],
   "source": []
  },
  {
   "cell_type": "code",
   "execution_count": null,
   "metadata": {},
   "outputs": [],
   "source": []
  },
  {
   "cell_type": "code",
   "execution_count": null,
   "metadata": {},
   "outputs": [],
   "source": []
  },
  {
   "cell_type": "code",
   "execution_count": null,
   "metadata": {},
   "outputs": [],
   "source": []
  },
  {
   "cell_type": "code",
   "execution_count": null,
   "metadata": {},
   "outputs": [],
   "source": []
  },
  {
   "cell_type": "code",
   "execution_count": null,
   "metadata": {},
   "outputs": [],
   "source": []
  },
  {
   "cell_type": "code",
   "execution_count": null,
   "metadata": {},
   "outputs": [],
   "source": []
  },
  {
   "cell_type": "code",
   "execution_count": null,
   "metadata": {},
   "outputs": [],
   "source": []
  },
  {
   "cell_type": "code",
   "execution_count": null,
   "metadata": {},
   "outputs": [],
   "source": []
  },
  {
   "cell_type": "code",
   "execution_count": null,
   "metadata": {},
   "outputs": [],
   "source": []
  }
 ],
 "metadata": {
  "kernelspec": {
   "display_name": "Python 3.6.3 ('base')",
   "language": "python",
   "name": "python3"
  },
  "language_info": {
   "codemirror_mode": {
    "name": "ipython",
    "version": 3
   },
   "file_extension": ".py",
   "mimetype": "text/x-python",
   "name": "python",
   "nbconvert_exporter": "python",
   "pygments_lexer": "ipython3",
   "version": "3.6.3"
  },
  "orig_nbformat": 4,
  "vscode": {
   "interpreter": {
    "hash": "86fd30cbb412d3c2fcb5663f2baf299330f256b0ff955c942b9dab3de52d94a6"
   }
  }
 },
 "nbformat": 4,
 "nbformat_minor": 2
}
